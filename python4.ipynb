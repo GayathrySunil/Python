{
 "cells": [
  {
   "cell_type": "code",
   "execution_count": 70,
   "id": "bec2b115",
   "metadata": {},
   "outputs": [
    {
     "name": "stdout",
     "output_type": "stream",
     "text": [
      "{'A': 23, 'a': 24}\n",
      "2\n"
     ]
    }
   ],
   "source": [
    "dict={\n",
    "    \"A\":23,\n",
    "    \"a\":24\n",
    "}\n",
    "print(dict)\n",
    "print(len(dict))"
   ]
  },
  {
   "cell_type": "code",
   "execution_count": 20,
   "id": "8431d203",
   "metadata": {},
   "outputs": [
    {
     "name": "stdout",
     "output_type": "stream",
     "text": [
      "{'brand': ['Mercedes', 'Maruthi', 'KIA', 'Nissan'], 'model': ['S-Class', 'Swift', 'Sonet', 'Magnite'], 'prize': [1200, 300, 899, 677]}\n",
      "['S-Class', 'Swift', 'Sonet', 'Magnite']\n",
      "['S-Class', 'Swift', 'Sonet', 'Magnite']\n",
      "dict_values([['Mercedes', 'Maruthi', 'KIA', 'Nissan'], ['S-Class', 'Swift', 'Sonet', 'Magnite'], [1200, 300, 899, 677]])\n",
      "dict_keys(['brand', 'model', 'prize'])\n",
      "Yes model is there\n"
     ]
    }
   ],
   "source": [
    "cars={\n",
    "    \"brand\":[\"Mercedes\",\"Maruthi\",\"KIA\",\"Nissan\"],\n",
    "    \"model\":[\"S-Class\",\"Swift\",\"Sonet\",\"Magnite\"],\n",
    "    \"prize\":[1200,300,899,677]\n",
    "}\n",
    "print(cars)\n",
    "print(cars[\"model\"])\n",
    "x=cars.get(\"model\")\n",
    "print(x)\n",
    "y=cars.values()\n",
    "print(y)\n",
    "z=cars.keys()\n",
    "print(z)\n",
    "if \"model\" in cars:\n",
    "    print(\"Yes model is there\")\n",
    "else:\n",
    "    print(\"Not exist\")"
   ]
  },
  {
   "cell_type": "code",
   "execution_count": 66,
   "id": "c7dbeb46",
   "metadata": {},
   "outputs": [
    {
     "name": "stdout",
     "output_type": "stream",
     "text": [
      "Nissan\n",
      "Mercedes\n",
      "Maruthi\n",
      "KIA\n"
     ]
    }
   ],
   "source": [
    "cars={\n",
    "    \"brand\":{\"Mercedes\",\"Maruthi\",\"KIA\",\"Nissan\"},\n",
    "    \"model\":(\"S-Class\",\"Swift\",\"Sonet\",\"Magnite\",None),\n",
    "    \"prize\":[1200,300,899.9,677,5+8j],\n",
    "    \"currentlyavailable\":True,\n",
    "      \"ownerdet\" :{\n",
    "    \"name\" : \"Tobias\",\n",
    "    \"year\" : 2007\n",
    "  },\n",
    "    \"a\":range(0,7)\n",
    "}\n",
    "cars[\"prize\"][0]=25000\n",
    "cars.pop(\"currentlyavailable\")\n",
    "cars.popitem()\n",
    "del cars[\"prize\"][1]\n",
    "for x in cars[\"brand\"]:\n",
    "  print(x)\n",
    "\n"
   ]
  },
  {
   "cell_type": "code",
   "execution_count": 76,
   "id": "c2e68e48",
   "metadata": {},
   "outputs": [
    {
     "name": "stdout",
     "output_type": "stream",
     "text": [
      "{'child1': {'name': 'Emil', 'year': 2004}, 'child2': {'name': 'Tobias', 'year': 2007}, 'child3': {'name': 'Linus', 'year': 2011}}\n"
     ]
    }
   ],
   "source": [
    "myfamily = {\n",
    "  \"child1\" : {\n",
    "    \"name\" : \"Emil\",\n",
    "    \"year\" : 2004\n",
    "  },\n",
    "  \"child2\" : {\n",
    "    \"name\" : \"Tobias\",\n",
    "    \"year\" : 2007\n",
    "  },\n",
    "  \"child3\" : {\n",
    "    \"name\" : \"Linus\",\n",
    "    \"year\" : 2011\n",
    "  }\n",
    "}\n",
    "print(myfamily)\n"
   ]
  },
  {
   "cell_type": "code",
   "execution_count": 75,
   "id": "520c3c38",
   "metadata": {},
   "outputs": [],
   "source": []
  }
 ],
 "metadata": {
  "kernelspec": {
   "display_name": "Python 3 (ipykernel)",
   "language": "python",
   "name": "python3"
  },
  "language_info": {
   "codemirror_mode": {
    "name": "ipython",
    "version": 3
   },
   "file_extension": ".py",
   "mimetype": "text/x-python",
   "name": "python",
   "nbconvert_exporter": "python",
   "pygments_lexer": "ipython3",
   "version": "3.9.7"
  }
 },
 "nbformat": 4,
 "nbformat_minor": 5
}
