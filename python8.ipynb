{
 "cells": [
  {
   "cell_type": "code",
   "execution_count": 4,
   "id": "b8c667c5",
   "metadata": {},
   "outputs": [
    {
     "name": "stdout",
     "output_type": "stream",
     "text": [
      "21\n",
      "Gayathry\n",
      "Ernakulam\n",
      "<class 'dict'>\n"
     ]
    }
   ],
   "source": [
    "import json\n",
    "\n",
    "x =  '{ \"name\":\"Gayathry\", \"age\":21, \"city\":\"Ernakulam\"}'\n",
    "\n",
    "y = json.loads(x)\n",
    "\n",
    "print(y[\"age\"])\n",
    "print(y[\"name\"])\n",
    "print(y[\"city\"])\n",
    "typeof()\n",
    "print(type(y))"
   ]
  },
  {
   "cell_type": "code",
   "execution_count": 5,
   "id": "b70428a0",
   "metadata": {},
   "outputs": [
    {
     "name": "stdout",
     "output_type": "stream",
     "text": [
      "{\"name\": \"Gayathry\", \"age\": 21, \"city\": \"Ernakulam\"}\n"
     ]
    }
   ],
   "source": [
    "import json\n",
    "\n",
    "x = {\n",
    "  \"name\": \"Gayathry\",\n",
    "  \"age\": 21,\n",
    "  \"city\": \"Ernakulam\"\n",
    "}\n",
    "\n",
    "y = json.dumps(x)\n",
    "\n",
    "print(y)"
   ]
  },
  {
   "cell_type": "code",
   "execution_count": 6,
   "id": "a8af97c3",
   "metadata": {},
   "outputs": [],
   "source": [
    "f = open(\"myfile.txt\", \"x\") //create a file"
   ]
  }
 ],
 "metadata": {
  "kernelspec": {
   "display_name": "Python 3 (ipykernel)",
   "language": "python",
   "name": "python3"
  },
  "language_info": {
   "codemirror_mode": {
    "name": "ipython",
    "version": 3
   },
   "file_extension": ".py",
   "mimetype": "text/x-python",
   "name": "python",
   "nbconvert_exporter": "python",
   "pygments_lexer": "ipython3",
   "version": "3.9.7"
  }
 },
 "nbformat": 4,
 "nbformat_minor": 5
}
