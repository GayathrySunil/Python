{
 "cells": [
  {
   "cell_type": "code",
   "execution_count": 7,
   "id": "d91566bd",
   "metadata": {},
   "outputs": [
    {
     "name": "stdout",
     "output_type": "stream",
     "text": [
      "9\n"
     ]
    }
   ],
   "source": [
    "import random\n",
    "\n",
    "print(random.randrange(1, 61))"
   ]
  },
  {
   "cell_type": "code",
   "execution_count": 9,
   "id": "b08d6d06",
   "metadata": {},
   "outputs": [
    {
     "name": "stdout",
     "output_type": "stream",
     "text": [
      "g\n",
      "a\n",
      "y\n",
      "a\n",
      "t\n",
      "h\n",
      "r\n",
      "y\n",
      " \n",
      "s\n",
      "u\n",
      "n\n",
      "i\n",
      "l\n"
     ]
    }
   ],
   "source": [
    "name=\"gayathry sunil\"\n",
    "for x in name:\n",
    "    print(x)"
   ]
  },
  {
   "cell_type": "code",
   "execution_count": 14,
   "id": "066d6b30",
   "metadata": {},
   "outputs": [
    {
     "name": "stdout",
     "output_type": "stream",
     "text": [
      "g\n"
     ]
    }
   ],
   "source": [
    "name=\"gayathry sunil\"\n",
    "print(name[0])"
   ]
  },
  {
   "cell_type": "code",
   "execution_count": 19,
   "id": "5aba3f70",
   "metadata": {},
   "outputs": [
    {
     "name": "stdout",
     "output_type": "stream",
     "text": [
      "Yes it is there\n"
     ]
    }
   ],
   "source": [
    "name=\"gayathry sunil\"\n",
    "if \"sunil\" in name:\n",
    "    print(\"Yes it is there\")"
   ]
  },
  {
   "cell_type": "code",
   "execution_count": 26,
   "id": "c226384f",
   "metadata": {},
   "outputs": [
    {
     "name": "stdout",
     "output_type": "stream",
     "text": [
      "athry sunil\n"
     ]
    }
   ],
   "source": [
    "name=\"gayathry sunil\"\n",
    "print(name[3:])"
   ]
  },
  {
   "cell_type": "code",
   "execution_count": 28,
   "id": "89ad6dd4",
   "metadata": {},
   "outputs": [
    {
     "name": "stdout",
     "output_type": "stream",
     "text": [
      "sun\n"
     ]
    }
   ],
   "source": [
    "name=\"gayathry sunil\"\n",
    "print(name[-5:-2])"
   ]
  },
  {
   "cell_type": "code",
   "execution_count": 34,
   "id": "0b0e0287",
   "metadata": {},
   "outputs": [
    {
     "name": "stdout",
     "output_type": "stream",
     "text": [
      "GAYATHRY SUNIL\n",
      "gayathry sunil\n",
      "gayathry sunil\n",
      "hayathry sunil\n",
      "['gayathry', 'sunil']\n"
     ]
    }
   ],
   "source": [
    "name=\"gayathry sunil\"\n",
    "print(name.upper())\n",
    "print(name.lower())\n",
    "print(name.strip())\n",
    "print(name.replace(\"g\",\"h\"))\n",
    "print(name.split())"
   ]
  },
  {
   "cell_type": "code",
   "execution_count": 36,
   "id": "1bcc862a",
   "metadata": {},
   "outputs": [
    {
     "name": "stdout",
     "output_type": "stream",
     "text": [
      "gayathrysunil\n"
     ]
    }
   ],
   "source": [
    "a=\"gayathry\"\n",
    "b=\"sunil\"\n",
    "c=a+b\n",
    "print(c)"
   ]
  },
  {
   "cell_type": "code",
   "execution_count": 37,
   "id": "511579e8",
   "metadata": {},
   "outputs": [
    {
     "name": "stdout",
     "output_type": "stream",
     "text": [
      "12\n"
     ]
    }
   ],
   "source": [
    "a=\"1\"\n",
    "b=\"2\"\n",
    "c=a+b\n",
    "print(c)"
   ]
  }
 ],
 "metadata": {
  "kernelspec": {
   "display_name": "Python 3 (ipykernel)",
   "language": "python",
   "name": "python3"
  },
  "language_info": {
   "codemirror_mode": {
    "name": "ipython",
    "version": 3
   },
   "file_extension": ".py",
   "mimetype": "text/x-python",
   "name": "python",
   "nbconvert_exporter": "python",
   "pygments_lexer": "ipython3",
   "version": "3.9.7"
  }
 },
 "nbformat": 4,
 "nbformat_minor": 5
}
